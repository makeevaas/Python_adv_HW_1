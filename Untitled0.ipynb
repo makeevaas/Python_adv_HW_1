{
  "nbformat": 4,
  "nbformat_minor": 0,
  "metadata": {
    "colab": {
      "provenance": [],
      "collapsed_sections": []
    },
    "kernelspec": {
      "name": "python3",
      "display_name": "Python 3"
    },
    "language_info": {
      "name": "python"
    }
  },
  "cells": [
    {
      "cell_type": "code",
      "execution_count": null,
      "metadata": {
        "id": "FiAtIl8mvaRr"
      },
      "outputs": [],
      "source": [
        "!pip install -q -U kaggle_environments"
      ]
    },
    {
      "cell_type": "code",
      "source": [
        "import numpy as np\n",
        "import pandas as pd\n",
        "import random\n",
        "\n",
        "import matplotlib.pyplot as plt\n",
        "import seaborn as sns\n",
        "\n",
        "from kaggle_environments import make, evaluate,utils,agent"
      ],
      "metadata": {
        "id": "ibjKkF1uvhiJ"
      },
      "execution_count": null,
      "outputs": []
    },
    {
      "cell_type": "code",
      "source": [
        "%%writefile all_agents.py\n",
        "\n",
        "import random\n",
        "\n",
        "#Варианты событий игры\n",
        "#0 - rock\n",
        "#1 - paper\n",
        "#2 - scissors\n",
        "\n",
        "def rock_agent(observation, configuration):\n",
        "    return 0\n",
        "\n",
        "def not_rock_agent(observation, configuration):\n",
        "    return random.randrange(1, configuration.signs)\n",
        "\n",
        "def paper_agent(observation, configuration):\n",
        "    return 1\n",
        "\n",
        "def not_paper_agent(observation, configuration):\n",
        "    return random.randrange(0, configuration.signs, 2)\n",
        "\n",
        "def scissors_agent(observation, configuration):\n",
        "    return 2\n",
        "\n",
        "def not_scissors_agent(observation, configuration):\n",
        "    return random.randrange(0, configuration.signs - 1)\n",
        "\n",
        "def opponent_agent(observation, configuration):\n",
        "    #in case we have information about opponent last move\n",
        "    if observation.step > 0:\n",
        "        return observation.lastOpponentAction\n",
        "    #initial step\n",
        "    else:\n",
        "        return random.randrange(0, configuration.signs)\n",
        "\n",
        "def random_agent(observation, configuration):\n",
        "    return random.randrange(random.randrange(0,2), configuration.signs)  \n",
        "\n",
        "agents = {\n",
        "    \"rock_agent\": rock_agent,\n",
        "    \"not_rock_agent\": not_rock_agent,\n",
        "    \"paper_agent\": paper_agent,\n",
        "    \"not_paper_agent\": not_paper_agent,\n",
        "    \"scissors_agent\": scissors_agent,\n",
        "    \"not_scissors_agent\": not_scissors_agent,\n",
        "    \"opponent_agent\": opponent_agent,\n",
        "    \"random_agent\": random_agent\n",
        "}       "
      ],
      "metadata": {
        "colab": {
          "base_uri": "https://localhost:8080/"
        },
        "id": "kfyE3lnXvdF-",
        "outputId": "c67c23c6-4afc-40af-9ffc-5234fcade4e5"
      },
      "execution_count": null,
      "outputs": [
        {
          "output_type": "stream",
          "name": "stdout",
          "text": [
            "Overwriting all_agents.py\n"
          ]
        }
      ]
    },
    {
      "cell_type": "code",
      "source": [
        "import kaggle_environments\n",
        "#Игра\n",
        "from all_agents1 import agents as all_agents\n",
        "\n",
        "#Словарь с агентами\n",
        "agents = {}\n",
        "for agent in all_agents.items():\n",
        "    agents[agent] = 0\n",
        "\n",
        "# Заголовок таблицы результатов\n",
        "print(\"-----------Результаты:------------\")\n",
        "\n",
        "# Список игроков\n",
        "player=list(agents)\n",
        "\n",
        "# Соревнования - каждый играет друг с другом\n",
        "for j in enumerate(player):\n",
        "    #Каждый играет со всеми последующими в списке\n",
        "    #В Раунд выходит агент-игрок под именем player_1, смена которого произойдет после окончания игры с остальными по списку\n",
        "    player_1=player[j[0]][1]\n",
        "    if j[0]+1<len(player):\n",
        "        #Перебор последующих игроков списка(которые буду играть под именем player_2) c игроком player_1\n",
        "        for i in player[j[0]+1:]:\n",
        "          player_2=i[1]\n",
        "          result = evaluate(\n",
        "          \"rps\",\n",
        "          [player_1, player_2],\n",
        "          configuration={\"episodeSteps\": 100})\n",
        "\n",
        "          #Печать рузьтатов\n",
        "          print(player[j[0]][0],\":\",result[0][0], \"|\", i[0],\":\",result[0][1])   "
      ],
      "metadata": {
        "colab": {
          "base_uri": "https://localhost:8080/"
        },
        "id": "MKzdc3l1L3KA",
        "outputId": "40274bc2-d1e3-41ec-e05d-06e3ce430335"
      },
      "execution_count": 436,
      "outputs": [
        {
          "output_type": "stream",
          "name": "stdout",
          "text": [
            "-----------Результаты:------------\n",
            "rock_agent : 0 | not_rock_agent : 0\n",
            "rock_agent : -99.0 | paper_agent : 99.0\n",
            "rock_agent : 52.0 | not_paper_agent : -52.0\n",
            "rock_agent : 99.0 | scissors_agent : -99.0\n",
            "rock_agent : -47.0 | not_scissors_agent : 47.0\n",
            "rock_agent : 0 | opponent_agent : 0\n",
            "rock_agent : -49.0 | random_agent : 49.0\n",
            "not_rock_agent : 53.0 | paper_agent : -53.0\n",
            "not_rock_agent : -33.0 | not_paper_agent : 33.0\n",
            "not_rock_agent : -48.0 | scissors_agent : 48.0\n",
            "not_rock_agent : 21.0 | not_scissors_agent : -21.0\n",
            "not_rock_agent : 0 | opponent_agent : 0\n",
            "not_rock_agent : 23.0 | random_agent : -23.0\n",
            "paper_agent : 0 | not_paper_agent : 0\n",
            "paper_agent : -99.0 | scissors_agent : 99.0\n",
            "paper_agent : 56.0 | not_scissors_agent : -56.0\n",
            "paper_agent : 0 | opponent_agent : 0\n",
            "paper_agent : 46.0 | random_agent : -46.0\n",
            "not_paper_agent : 48.0 | scissors_agent : -48.0\n",
            "not_paper_agent : 0 | not_scissors_agent : 0\n",
            "not_paper_agent : 0 | opponent_agent : 0\n",
            "not_paper_agent : -27.0 | random_agent : 27.0\n",
            "scissors_agent : 0 | not_scissors_agent : 0\n",
            "scissors_agent : 0 | opponent_agent : 0\n",
            "scissors_agent : 0 | random_agent : 0\n",
            "not_scissors_agent : 0 | opponent_agent : 0\n",
            "not_scissors_agent : 0 | random_agent : 0\n",
            "opponent_agent : 0 | random_agent : 0\n"
          ]
        }
      ]
    }
  ]
}